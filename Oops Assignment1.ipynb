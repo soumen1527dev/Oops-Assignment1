{
 "cells": [
  {
   "cell_type": "code",
   "execution_count": 1,
   "id": "55e34abb-1c70-4430-9537-8918b1b93d92",
   "metadata": {},
   "outputs": [],
   "source": [
    "# Q1. Explain Class and Object with respect to Object-Oriented Programming. Give a suitable example.\n",
    "# Ans :\n",
    "\n",
    "# Class :- A class is a blueprint or template for creating objects. It defines a set of attributes\n",
    "# (also known as properties or fields) and methods (functions) that describe the behavior and\n",
    "# characteristics of objects that will be created based on that class.\n",
    "\n",
    "# Object :- An object is an instance of a class. It represents a specific, unique occurrence of\n",
    "# the entity defined by the class. Objects are created based on the blueprint provided by the class.\n",
    "#Example -\n",
    "\n",
    "class pwskills:\n",
    "    \n",
    "    def __init__(self, name, email_id):\n",
    "        self.name = name\n",
    "        self.email_id = email_id\n",
    "        \n",
    "    def return_students_details(self):\n",
    "        return self.name, self.email_id"
   ]
  },
  {
   "cell_type": "code",
   "execution_count": 2,
   "id": "d04be3d5-8c0c-4844-8123-975f03fd46dd",
   "metadata": {},
   "outputs": [],
   "source": [
    "soumen = pwskills(\"soumen das\", \"das073995@gmail.com\")"
   ]
  },
  {
   "cell_type": "code",
   "execution_count": 3,
   "id": "d489bd57-6cee-41a0-ac38-461199632cc0",
   "metadata": {},
   "outputs": [
    {
     "data": {
      "text/plain": [
       "('soumen das', 'das073995@gmail.com')"
      ]
     },
     "execution_count": 3,
     "metadata": {},
     "output_type": "execute_result"
    }
   ],
   "source": [
    "soumen.return_students_details()"
   ]
  },
  {
   "cell_type": "code",
   "execution_count": 4,
   "id": "7b6f29a1-f833-4488-875f-0f2cdfe12587",
   "metadata": {},
   "outputs": [],
   "source": [
    "# Q2. Name the four pillars of OOPs.\n",
    "# Ans :\n",
    "\n",
    "# The four pillers of Oops are 1.Polymorphism\n",
    "#                              2.Encapsulation\n",
    "#                              3.Inheritance\n",
    "#                              4.Abstraction"
   ]
  },
  {
   "cell_type": "code",
   "execution_count": 9,
   "id": "55124d9b-5192-47dd-ac44-e84783452e6d",
   "metadata": {},
   "outputs": [],
   "source": [
    "# Q3. Explain why the __init__() function is used. Give a suitable example.\n",
    "# Ans :\n",
    "\n",
    "# In Python, the __init__() method is used for initializing instances (objects)\n",
    "# of a class. It is part of the object's lifecycle and is automatically called \n",
    "# when you create a new instance of a class. Here's why the __init__() method is used in Python\n",
    "\n",
    "class car:\n",
    "    def __init__(self, car_name, car_id):\n",
    "        self.car_name = car_name\n",
    "        self.car_id = car_id\n",
    "        \n",
    "        \n",
    "    def car_details(self):\n",
    "        return self.car_name, self.car_id"
   ]
  },
  {
   "cell_type": "code",
   "execution_count": 10,
   "id": "53f92a6b-87d8-44a5-a3fe-bbb0fb31461e",
   "metadata": {},
   "outputs": [],
   "source": [
    "car_obj = car(\"Bus\", 255)"
   ]
  },
  {
   "cell_type": "code",
   "execution_count": 11,
   "id": "ffd5ccd3-cd23-470b-ac85-2ecebd2559b3",
   "metadata": {},
   "outputs": [
    {
     "data": {
      "text/plain": [
       "('Bus', 255)"
      ]
     },
     "execution_count": 11,
     "metadata": {},
     "output_type": "execute_result"
    }
   ],
   "source": [
    "car_obj.car_details()"
   ]
  },
  {
   "cell_type": "code",
   "execution_count": 12,
   "id": "e2f6d826-eb58-4419-8b62-c9598c412ada",
   "metadata": {},
   "outputs": [],
   "source": [
    "# Q4. Why self is used in OOPs?\n",
    "# Ans :\n",
    "\n",
    "# In python self is used to access instance-specific attributes and methods,\n",
    "# manage object identity, and support encapsulation by referring to the current instance within class methods."
   ]
  },
  {
   "cell_type": "code",
   "execution_count": 13,
   "id": "e8c43747-45d9-4b3d-bff4-e681e93f641b",
   "metadata": {},
   "outputs": [],
   "source": [
    "# Q5. What is inheritance? Give an example for each type of inheritance.\n",
    "# Ans :\n",
    "\n",
    "# Inheritance is a fundamental concept in object-oriented programming (OOP), including in Python.\n",
    "# It allows you to create a new class (the child or subclass) based on an existing class (the parent or superclass).\n",
    "# Inheritance enables the child class to inherit attributes and methods from the parent class, promoting code\n",
    "# reusability and creating a hierarchical relationship between classes.\n",
    "\n",
    "#Example :\n",
    "#Single inheritance\n",
    "\n",
    "class test:\n",
    "    \n",
    "    def test_meth(self):\n",
    "        return \"this is my first class\""
   ]
  },
  {
   "cell_type": "code",
   "execution_count": 14,
   "id": "d4f3c29d-4c91-425e-a58d-af4a3e5d431e",
   "metadata": {},
   "outputs": [],
   "source": [
    "class child_test(test):\n",
    "    pass"
   ]
  },
  {
   "cell_type": "code",
   "execution_count": 15,
   "id": "a9cbd8f6-35b5-47c3-8051-8ecd68970f83",
   "metadata": {},
   "outputs": [],
   "source": [
    "child_test_obj = child_test()"
   ]
  },
  {
   "cell_type": "code",
   "execution_count": 16,
   "id": "2e305dcf-fd55-4c12-93f7-531d464943d8",
   "metadata": {},
   "outputs": [
    {
     "data": {
      "text/plain": [
       "'this is my first class'"
      ]
     },
     "execution_count": 16,
     "metadata": {},
     "output_type": "execute_result"
    }
   ],
   "source": [
    "child_test_obj.test_meth()"
   ]
  },
  {
   "cell_type": "code",
   "execution_count": 17,
   "id": "d2fff3f6-5861-45fa-95b5-57b497f70b03",
   "metadata": {},
   "outputs": [],
   "source": [
    "#Multiple inheritance"
   ]
  },
  {
   "cell_type": "code",
   "execution_count": 18,
   "id": "cc42d7b6-eb72-4cda-81e8-aae99a9b4a97",
   "metadata": {},
   "outputs": [],
   "source": [
    "class class1:\n",
    "    \n",
    "    def test_class1(self):\n",
    "        return \"this is a method from class1\""
   ]
  },
  {
   "cell_type": "code",
   "execution_count": 19,
   "id": "fff4930c-d0b6-4ebe-bb27-c849ea388b90",
   "metadata": {},
   "outputs": [],
   "source": [
    "class class2(class1):\n",
    "    \n",
    "    def test_class2(self):\n",
    "        return \"this is a method from class2\""
   ]
  },
  {
   "cell_type": "code",
   "execution_count": 20,
   "id": "e7590c44-e5a5-4588-a9b1-64693a0b92ca",
   "metadata": {},
   "outputs": [],
   "source": [
    "class class3(class2):\n",
    "    pass"
   ]
  },
  {
   "cell_type": "code",
   "execution_count": 21,
   "id": "d0dbbe03-d241-4d7f-a0f1-fbadb030fc05",
   "metadata": {},
   "outputs": [],
   "source": [
    "obj_class3 = class3()"
   ]
  },
  {
   "cell_type": "code",
   "execution_count": 22,
   "id": "c85b23b3-aa01-4b80-8db5-0bdb59615b6b",
   "metadata": {},
   "outputs": [
    {
     "data": {
      "text/plain": [
       "'this is a method from class1'"
      ]
     },
     "execution_count": 22,
     "metadata": {},
     "output_type": "execute_result"
    }
   ],
   "source": [
    "obj_class3.test_class1()"
   ]
  },
  {
   "cell_type": "code",
   "execution_count": 23,
   "id": "61571985-304d-4e8d-b27b-ab87eb5426cf",
   "metadata": {},
   "outputs": [
    {
     "data": {
      "text/plain": [
       "'this is a method from class2'"
      ]
     },
     "execution_count": 23,
     "metadata": {},
     "output_type": "execute_result"
    }
   ],
   "source": [
    "obj_class3.test_class2()"
   ]
  },
  {
   "cell_type": "code",
   "execution_count": 26,
   "id": "d4fe69ed-8e95-4149-8aa2-5722f31135fb",
   "metadata": {},
   "outputs": [],
   "source": [
    "# Multilevel inheritance\n",
    "\n",
    "class Grandparent:\n",
    "    def method1(self):\n",
    "        pass\n",
    "\n",
    "class Parent(Grandparent):\n",
    "    def method2(self):\n",
    "        pass\n",
    "\n",
    "class Child(Parent):\n",
    "    def method3(self):\n",
    "        pass"
   ]
  },
  {
   "cell_type": "code",
   "execution_count": 27,
   "id": "d0fad5d1-c843-423b-91ea-902df5cf1e90",
   "metadata": {},
   "outputs": [],
   "source": [
    "# Hierarchical inheritance:\n",
    "\n",
    "class Shape:\n",
    "    def area(self):\n",
    "        pass\n",
    "\n",
    "class Circle(Shape):\n",
    "    def area(self):\n",
    "        return 3.14 * self.radius ** 2\n",
    "\n",
    "class Square(Shape):\n",
    "    def area(self):\n",
    "        return self.side_length ** 2"
   ]
  },
  {
   "cell_type": "code",
   "execution_count": 28,
   "id": "09a51dee-9edb-4570-9e03-83c5a2826ed4",
   "metadata": {},
   "outputs": [],
   "source": [
    "# Hybrid inheritance\n",
    "\n",
    "class A:\n",
    "    def method1(self):\n",
    "        pass\n",
    "\n",
    "class B(A):\n",
    "    def method2(self):\n",
    "        pass\n",
    "\n",
    "class C(A):\n",
    "    def method3(self):\n",
    "        pass\n",
    "\n",
    "class D(B, C):\n",
    "    def method4(self):\n",
    "        pass"
   ]
  }
 ],
 "metadata": {
  "kernelspec": {
   "display_name": "Python 3 (ipykernel)",
   "language": "python",
   "name": "python3"
  },
  "language_info": {
   "codemirror_mode": {
    "name": "ipython",
    "version": 3
   },
   "file_extension": ".py",
   "mimetype": "text/x-python",
   "name": "python",
   "nbconvert_exporter": "python",
   "pygments_lexer": "ipython3",
   "version": "3.10.8"
  }
 },
 "nbformat": 4,
 "nbformat_minor": 5
}
